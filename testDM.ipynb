{
 "cells": [
  {
   "cell_type": "markdown",
   "id": "781cb0e8",
   "metadata": {},
   "source": [
    "# Instación de opendatasets"
   ]
  },
  {
   "cell_type": "code",
   "execution_count": 1,
   "id": "163a4b68",
   "metadata": {},
   "outputs": [
    {
     "name": "stdout",
     "output_type": "stream",
     "text": [
      "Collecting opendatasets\n",
      "  Downloading opendatasets-0.1.20-py3-none-any.whl (14 kB)\n",
      "Requirement already satisfied: tqdm in /srv/conda/envs/notebook/lib/python3.6/site-packages (from opendatasets) (4.62.3)\n",
      "Collecting kaggle\n",
      "  Downloading kaggle-1.5.12.tar.gz (58 kB)\n",
      "\u001b[K     |████████████████████████████████| 58 kB 3.2 MB/s eta 0:00:011\n",
      "\u001b[?25hCollecting click\n",
      "  Downloading click-8.0.3-py3-none-any.whl (97 kB)\n",
      "\u001b[K     |████████████████████████████████| 97 kB 5.4 MB/s  eta 0:00:01\n",
      "\u001b[?25hRequirement already satisfied: importlib-metadata in /srv/conda/envs/notebook/lib/python3.6/site-packages (from click->opendatasets) (4.8.1)\n",
      "Requirement already satisfied: typing-extensions>=3.6.4 in /srv/conda/envs/notebook/lib/python3.6/site-packages (from importlib-metadata->click->opendatasets) (3.10.0.2)\n",
      "Requirement already satisfied: zipp>=0.5 in /srv/conda/envs/notebook/lib/python3.6/site-packages (from importlib-metadata->click->opendatasets) (3.6.0)\n",
      "Requirement already satisfied: six>=1.10 in /srv/conda/envs/notebook/lib/python3.6/site-packages (from kaggle->opendatasets) (1.16.0)\n",
      "Requirement already satisfied: certifi in /srv/conda/envs/notebook/lib/python3.6/site-packages (from kaggle->opendatasets) (2021.5.30)\n",
      "Requirement already satisfied: python-dateutil in /srv/conda/envs/notebook/lib/python3.6/site-packages (from kaggle->opendatasets) (2.8.2)\n",
      "Requirement already satisfied: requests in /srv/conda/envs/notebook/lib/python3.6/site-packages (from kaggle->opendatasets) (2.26.0)\n",
      "Collecting python-slugify\n",
      "  Downloading python_slugify-5.0.2-py2.py3-none-any.whl (6.7 kB)\n",
      "Requirement already satisfied: urllib3 in /srv/conda/envs/notebook/lib/python3.6/site-packages (from kaggle->opendatasets) (1.26.7)\n",
      "Collecting text-unidecode>=1.3\n",
      "  Downloading text_unidecode-1.3-py2.py3-none-any.whl (78 kB)\n",
      "\u001b[K     |████████████████████████████████| 78 kB 7.1 MB/s  eta 0:00:01\n",
      "\u001b[?25hRequirement already satisfied: idna<4,>=2.5 in /srv/conda/envs/notebook/lib/python3.6/site-packages (from requests->kaggle->opendatasets) (3.1)\n",
      "Requirement already satisfied: charset-normalizer~=2.0.0 in /srv/conda/envs/notebook/lib/python3.6/site-packages (from requests->kaggle->opendatasets) (2.0.0)\n",
      "Building wheels for collected packages: kaggle\n",
      "  Building wheel for kaggle (setup.py) ... \u001b[?25ldone\n",
      "\u001b[?25h  Created wheel for kaggle: filename=kaggle-1.5.12-py3-none-any.whl size=73051 sha256=88fa72602f5b27bac1f3cbf9ac8323ae0503997fecd358cdd8154f12d74f4eb9\n",
      "  Stored in directory: /home/jovyan/.cache/pip/wheels/77/47/e4/44a4ba1b7dfd53faaa35f59f1175e123b213ff401a8a56876b\n",
      "Successfully built kaggle\n",
      "Installing collected packages: text-unidecode, python-slugify, kaggle, click, opendatasets\n",
      "Successfully installed click-8.0.3 kaggle-1.5.12 opendatasets-0.1.20 python-slugify-5.0.2 text-unidecode-1.3\n"
     ]
    }
   ],
   "source": [
    "!pip install opendatasets"
   ]
  },
  {
   "cell_type": "markdown",
   "id": "bf050a89",
   "metadata": {},
   "source": [
    "# Librería opendatasets "
   ]
  },
  {
   "cell_type": "markdown",
   "id": "c48dd745",
   "metadata": {},
   "source": [
    "<p><strong>Opendatasetses</strong> es una biblioteca de Python para descargar conjuntos de datos de fuentes en línea como Kaggle y Google Drive usando el simple comando download. Y para importar su librería se la llama opendatasets con un alia</p>"
   ]
  },
  {
   "cell_type": "code",
   "execution_count": 2,
   "id": "b144c5c0",
   "metadata": {},
   "outputs": [],
   "source": [
    "import opendatasets as od"
   ]
  },
  {
   "cell_type": "markdown",
   "id": "6c8337e7",
   "metadata": {},
   "source": [
    "<p>Se guarda la dirección del dataset en una variable</p>"
   ]
  },
  {
   "cell_type": "code",
   "execution_count": 3,
   "id": "25dce246",
   "metadata": {},
   "outputs": [],
   "source": [
    "dataset = 'https://www.kaggle.com/lakshmi25npathi/imdb-dataset-of-50k-movie-reviews?select=IMDB+Dataset.csv'"
   ]
  },
  {
   "cell_type": "markdown",
   "id": "01a36bf5",
   "metadata": {},
   "source": [
    "<p>Se llama a la función od.download para descargar el dataset y se ingresa la credenciales</p>"
   ]
  },
  {
   "cell_type": "code",
   "execution_count": 4,
   "id": "7579cee6",
   "metadata": {
    "scrolled": false
   },
   "outputs": [
    {
     "name": "stdout",
     "output_type": "stream",
     "text": [
      "Please provide your Kaggle credentials to download this dataset. Learn more: http://bit.ly/kaggle-creds\n",
      "Your Kaggle username: deicyandrade\n",
      "Your Kaggle Key: ········\n",
      "Downloading imdb-dataset-of-50k-movie-reviews.zip to ./imdb-dataset-of-50k-movie-reviews\n"
     ]
    },
    {
     "name": "stderr",
     "output_type": "stream",
     "text": [
      "100%|██████████| 25.7M/25.7M [00:00<00:00, 54.9MB/s]\n"
     ]
    },
    {
     "name": "stdout",
     "output_type": "stream",
     "text": [
      "\n"
     ]
    }
   ],
   "source": [
    "od.download(dataset)"
   ]
  },
  {
   "cell_type": "markdown",
   "id": "04ff43f5",
   "metadata": {},
   "source": [
    "# Librería os"
   ]
  },
  {
   "cell_type": "markdown",
   "id": "c417dea1",
   "metadata": {},
   "source": [
    "<p>Esta librería <strong>os</strong> permite manipular la estructura de un archivo para leer, escribir, acceder, eliminar, entre otras funciones y esta vez se la utiliza para en listar el archivo dataset y obtener los datos</p>"
   ]
  },
  {
   "cell_type": "code",
   "execution_count": 3,
   "id": "7a0fe15f",
   "metadata": {},
   "outputs": [],
   "source": [
    "import os"
   ]
  },
  {
   "cell_type": "markdown",
   "id": "f102149d",
   "metadata": {},
   "source": [
    "### Prueba 1: Obtener archivo"
   ]
  },
  {
   "cell_type": "markdown",
   "id": "e1425d63",
   "metadata": {},
   "source": [
    "<p>Se guarda en una variable el directorio en donde se descargo el dataset</p>"
   ]
  },
  {
   "cell_type": "code",
   "execution_count": 20,
   "id": "a99cdf34",
   "metadata": {},
   "outputs": [],
   "source": [
    "data_dir = './imdb-dataset-of-50k-movie-reviews'"
   ]
  },
  {
   "cell_type": "markdown",
   "id": "f847d780",
   "metadata": {},
   "source": [
    "<p>Se en lista los archivos que se encuentran en el directorio antes guardado</p>"
   ]
  },
  {
   "cell_type": "code",
   "execution_count": 21,
   "id": "0fe726bd",
   "metadata": {},
   "outputs": [
    {
     "data": {
      "text/plain": [
       "['IMDB Dataset.csv', '.ipynb_checkpoints']"
      ]
     },
     "execution_count": 21,
     "metadata": {},
     "output_type": "execute_result"
    }
   ],
   "source": [
    "os.listdir(data_dir)"
   ]
  },
  {
   "cell_type": "markdown",
   "id": "8d224ea5",
   "metadata": {},
   "source": [
    "### Prueba 2: Directorio actual "
   ]
  },
  {
   "cell_type": "markdown",
   "id": "9dd8503b",
   "metadata": {},
   "source": [
    "<p>El método <strong>os.getcwd()</strong> se utiliza para verificar el directorio actual en donde se encuentran trabajando</p>"
   ]
  },
  {
   "cell_type": "code",
   "execution_count": 10,
   "id": "887b65a6",
   "metadata": {},
   "outputs": [
    {
     "data": {
      "text/plain": [
       "'/home/jovyan/Laboratorio 1'"
      ]
     },
     "execution_count": 10,
     "metadata": {},
     "output_type": "execute_result"
    }
   ],
   "source": [
    "os.getcwd()"
   ]
  },
  {
   "cell_type": "markdown",
   "id": "9556b95f",
   "metadata": {},
   "source": [
    "### Prueba 3: Verificar acceso "
   ]
  },
  {
   "cell_type": "markdown",
   "id": "9f0bf833",
   "metadata": {},
   "source": [
    "<p> El método <strong>os.access()</strong> permite verificar el tipo de permisos que se tiene en un archivo o directorio. Para utilizar este método se pasa la dirección en donde se encuentra el archivo y el tipo de permiso que se quiere comprobar por parámetro.\n",
    "Tipos de verificación:\n",
    "os.F_OK: existe ruta de prueba,\n",
    "os.R_OK: la ruta de la prueba se puede leer,\n",
    "os.W_OK: la ruta de acceso de prueba es legible,\n",
    "os.X_OK: la ruta de prueba si es ejecutable.</p>\n"
   ]
  },
  {
   "cell_type": "code",
   "execution_count": 22,
   "id": "0ebb79f8",
   "metadata": {},
   "outputs": [
    {
     "data": {
      "text/plain": [
       "True"
      ]
     },
     "execution_count": 22,
     "metadata": {},
     "output_type": "execute_result"
    }
   ],
   "source": [
    "os.access(\"/home/jovyan/Laboratorio 1\", os.R_OK)"
   ]
  },
  {
   "cell_type": "markdown",
   "id": "e9d745c4",
   "metadata": {},
   "source": [
    "# Librería pandas"
   ]
  },
  {
   "cell_type": "markdown",
   "id": "015ae7bc",
   "metadata": {},
   "source": [
    "<p>La librería <strong>pandas</strong> proporciona muchas funciones y métodos para acelerar el proceso de análisis de datos, porque se especializa en el análisis y manejo de estructura de datos. Este módulo generalmente se importa como:</p>"
   ]
  },
  {
   "cell_type": "code",
   "execution_count": 7,
   "id": "4d56911e",
   "metadata": {},
   "outputs": [],
   "source": [
    "import pandas as pd"
   ]
  },
  {
   "cell_type": "markdown",
   "id": "278b4a2b",
   "metadata": {},
   "source": [
    "<p>Como se puede observar, se utiliza la palabra <strong>import</strong> para importar la librería y un <strong>as</strong> para colocar un <strong>alias</strong>. Sin embargo, no es necesario colocar el <strong>alias</strong> para realizar el <strong>import</strong>, pero esto puede ayudar a escribir menos código cada vez que se llame a un método.</p> "
   ]
  },
  {
   "cell_type": "markdown",
   "id": "0810a045",
   "metadata": {},
   "source": [
    "### Prueba 1: Importar archivo csv"
   ]
  },
  {
   "cell_type": "markdown",
   "id": "dcd42512",
   "metadata": {},
   "source": [
    "<p>Como primera prueba de esta librería, se utiliza el método <strong>red_csv('')</strong>. \n",
    "   Este método permite leer archivos separados por coma (csv), los cuales son un formato de archivo común para transferir y almacenar datos. A continuación, se muestra la forma de utilizar el método</p>"
   ]
  },
  {
   "cell_type": "code",
   "execution_count": 8,
   "id": "81a03688",
   "metadata": {},
   "outputs": [],
   "source": [
    "dataset = pd.read_csv('IMDB Dataset.csv')"
   ]
  },
  {
   "cell_type": "markdown",
   "id": "129981e8",
   "metadata": {},
   "source": [
    "<p>Aquí, se puede ver que el archivo leído se guarda en una variable, lo cual no es necesario siempre, pero puede ayudar a reutilizar la lectura del archivo con mayor facilidad. En la siguiente línea de código, se encuentra la ejecución de la variable  y se muestra los datos que contiene la misma</p>"
   ]
  },
  {
   "cell_type": "code",
   "execution_count": 10,
   "id": "dc82f731",
   "metadata": {},
   "outputs": [
    {
     "data": {
      "text/html": [
       "<div>\n",
       "<style scoped>\n",
       "    .dataframe tbody tr th:only-of-type {\n",
       "        vertical-align: middle;\n",
       "    }\n",
       "\n",
       "    .dataframe tbody tr th {\n",
       "        vertical-align: top;\n",
       "    }\n",
       "\n",
       "    .dataframe thead th {\n",
       "        text-align: right;\n",
       "    }\n",
       "</style>\n",
       "<table border=\"1\" class=\"dataframe\">\n",
       "  <thead>\n",
       "    <tr style=\"text-align: right;\">\n",
       "      <th></th>\n",
       "      <th>review</th>\n",
       "      <th>sentiment</th>\n",
       "    </tr>\n",
       "  </thead>\n",
       "  <tbody>\n",
       "    <tr>\n",
       "      <th>0</th>\n",
       "      <td>One of the other reviewers has mentioned that ...</td>\n",
       "      <td>positive</td>\n",
       "    </tr>\n",
       "    <tr>\n",
       "      <th>1</th>\n",
       "      <td>A wonderful little production. &lt;br /&gt;&lt;br /&gt;The...</td>\n",
       "      <td>positive</td>\n",
       "    </tr>\n",
       "    <tr>\n",
       "      <th>2</th>\n",
       "      <td>I thought this was a wonderful way to spend ti...</td>\n",
       "      <td>positive</td>\n",
       "    </tr>\n",
       "    <tr>\n",
       "      <th>3</th>\n",
       "      <td>Basically there's a family where a little boy ...</td>\n",
       "      <td>negative</td>\n",
       "    </tr>\n",
       "    <tr>\n",
       "      <th>4</th>\n",
       "      <td>Petter Mattei's \"Love in the Time of Money\" is...</td>\n",
       "      <td>positive</td>\n",
       "    </tr>\n",
       "    <tr>\n",
       "      <th>...</th>\n",
       "      <td>...</td>\n",
       "      <td>...</td>\n",
       "    </tr>\n",
       "    <tr>\n",
       "      <th>49995</th>\n",
       "      <td>I thought this movie did a down right good job...</td>\n",
       "      <td>positive</td>\n",
       "    </tr>\n",
       "    <tr>\n",
       "      <th>49996</th>\n",
       "      <td>Bad plot, bad dialogue, bad acting, idiotic di...</td>\n",
       "      <td>negative</td>\n",
       "    </tr>\n",
       "    <tr>\n",
       "      <th>49997</th>\n",
       "      <td>I am a Catholic taught in parochial elementary...</td>\n",
       "      <td>negative</td>\n",
       "    </tr>\n",
       "    <tr>\n",
       "      <th>49998</th>\n",
       "      <td>I'm going to have to disagree with the previou...</td>\n",
       "      <td>negative</td>\n",
       "    </tr>\n",
       "    <tr>\n",
       "      <th>49999</th>\n",
       "      <td>No one expects the Star Trek movies to be high...</td>\n",
       "      <td>negative</td>\n",
       "    </tr>\n",
       "  </tbody>\n",
       "</table>\n",
       "<p>50000 rows × 2 columns</p>\n",
       "</div>"
      ],
      "text/plain": [
       "                                                  review sentiment\n",
       "0      One of the other reviewers has mentioned that ...  positive\n",
       "1      A wonderful little production. <br /><br />The...  positive\n",
       "2      I thought this was a wonderful way to spend ti...  positive\n",
       "3      Basically there's a family where a little boy ...  negative\n",
       "4      Petter Mattei's \"Love in the Time of Money\" is...  positive\n",
       "...                                                  ...       ...\n",
       "49995  I thought this movie did a down right good job...  positive\n",
       "49996  Bad plot, bad dialogue, bad acting, idiotic di...  negative\n",
       "49997  I am a Catholic taught in parochial elementary...  negative\n",
       "49998  I'm going to have to disagree with the previou...  negative\n",
       "49999  No one expects the Star Trek movies to be high...  negative\n",
       "\n",
       "[50000 rows x 2 columns]"
      ]
     },
     "execution_count": 10,
     "metadata": {},
     "output_type": "execute_result"
    }
   ],
   "source": [
    "dataset"
   ]
  },
  {
   "cell_type": "markdown",
   "id": "3e3192d2",
   "metadata": {},
   "source": [
    "### Pruba 2: Resumen del marco de datos "
   ]
  },
  {
   "cell_type": "markdown",
   "id": "02ca0ce5",
   "metadata": {},
   "source": [
    "<p><strong>dataset.info()</strong> es una función <strong>pandas</strong> que se utiliza para obtener un resumen conciso del marco de datos. Es útil cuando se necesita analizar de forma exploratoria los datos, y para poder tener una descripción general rápida del conjunto de datos, se utiliza esta función. A continuación, se muestra la función <strong>.info()</strong> con el dataset utilizado de ejemplo.\n",
    "</p>"
   ]
  },
  {
   "cell_type": "code",
   "execution_count": 44,
   "id": "a5833490",
   "metadata": {},
   "outputs": [
    {
     "name": "stdout",
     "output_type": "stream",
     "text": [
      "<class 'pandas.core.frame.DataFrame'>\n",
      "RangeIndex: 50000 entries, 0 to 49999\n",
      "Data columns (total 2 columns):\n",
      " #   Column     Non-Null Count  Dtype \n",
      "---  ------     --------------  ----- \n",
      " 0   review     50000 non-null  object\n",
      " 1   sentiment  50000 non-null  object\n",
      "dtypes: object(2)\n",
      "memory usage: 781.4+ KB\n"
     ]
    }
   ],
   "source": [
    "dataset.info()"
   ]
  },
  {
   "cell_type": "markdown",
   "id": "ec70cfa1",
   "metadata": {},
   "source": [
    "### Prueba 3: Resumen estadístico "
   ]
  },
  {
   "cell_type": "markdown",
   "id": "bae56545",
   "metadata": {},
   "source": [
    "<p>En método <strong>describe()</strong> realiza un resumen estadístico rápido para cada columna. Si hay algo que se hace una y otra vez en el proceso de análisis exploratorio de datos, es realizar un resumen estadístico para cada atributo y sería un proceso bastante tedioso sin las herramientas adecuadas, pero este método de <strong>pandas</strong> facilita el trabajo. En la siguiente línea de código se muestra su funcionalidad. \n",
    "</p>"
   ]
  },
  {
   "cell_type": "code",
   "execution_count": 43,
   "id": "1ebb5922",
   "metadata": {},
   "outputs": [
    {
     "data": {
      "text/html": [
       "<div>\n",
       "<style scoped>\n",
       "    .dataframe tbody tr th:only-of-type {\n",
       "        vertical-align: middle;\n",
       "    }\n",
       "\n",
       "    .dataframe tbody tr th {\n",
       "        vertical-align: top;\n",
       "    }\n",
       "\n",
       "    .dataframe thead th {\n",
       "        text-align: right;\n",
       "    }\n",
       "</style>\n",
       "<table border=\"1\" class=\"dataframe\">\n",
       "  <thead>\n",
       "    <tr style=\"text-align: right;\">\n",
       "      <th></th>\n",
       "      <th>review</th>\n",
       "      <th>sentiment</th>\n",
       "    </tr>\n",
       "  </thead>\n",
       "  <tbody>\n",
       "    <tr>\n",
       "      <th>count</th>\n",
       "      <td>50000</td>\n",
       "      <td>50000</td>\n",
       "    </tr>\n",
       "    <tr>\n",
       "      <th>unique</th>\n",
       "      <td>49582</td>\n",
       "      <td>2</td>\n",
       "    </tr>\n",
       "    <tr>\n",
       "      <th>top</th>\n",
       "      <td>Loved today's show!!! It was a variety and not...</td>\n",
       "      <td>negative</td>\n",
       "    </tr>\n",
       "    <tr>\n",
       "      <th>freq</th>\n",
       "      <td>5</td>\n",
       "      <td>25000</td>\n",
       "    </tr>\n",
       "  </tbody>\n",
       "</table>\n",
       "</div>"
      ],
      "text/plain": [
       "                                                   review sentiment\n",
       "count                                               50000     50000\n",
       "unique                                              49582         2\n",
       "top     Loved today's show!!! It was a variety and not...  negative\n",
       "freq                                                    5     25000"
      ]
     },
     "execution_count": 43,
     "metadata": {},
     "output_type": "execute_result"
    }
   ],
   "source": [
    "dataset.describe()"
   ]
  },
  {
   "cell_type": "markdown",
   "id": "65dbda59",
   "metadata": {},
   "source": [
    "# Libreria numpy"
   ]
  },
  {
   "cell_type": "markdown",
   "id": "66a9216e",
   "metadata": {},
   "source": [
    "<p>La librería <strong>Numpy</strong> es bastante utilizada en aplicaciones de computación científica y se divide en tres categorías: Transformada de Fourier y manipulación de formas , operaciones matemáticas y lógicas, y álgebra lineal y generación de números aleatorios. Muchas bibliotecas avanzadas de Python, como Scikit-Learn, Scipy y Keras, hacen un uso extensivo de la biblioteca NumPy porque tiene varias funcionalidades integrada.  </p>"
   ]
  },
  {
   "cell_type": "markdown",
   "id": "4232947c",
   "metadata": {},
   "source": [
    "<p>La forma de importar la librería es de la siguiente:</p>  "
   ]
  },
  {
   "cell_type": "code",
   "execution_count": 4,
   "id": "73dbfc05",
   "metadata": {},
   "outputs": [],
   "source": [
    "import numpy as np"
   ]
  },
  {
   "cell_type": "markdown",
   "id": "1abf91dd",
   "metadata": {},
   "source": [
    "### Prueba 1: Creación de un arreglo o vector "
   ]
  },
  {
   "cell_type": "markdown",
   "id": "e6fae13a",
   "metadata": {},
   "source": [
    "<p>Los arreglos NumPy son fáciles de crear debido a los complejos e innumerables problemas que resuelven. Para crear un ndarray muy básico,  se utiliza el método np.array () . Todo lo que tiene que pasar son los valores de la matriz como una lista, como se muestra a continuación. </p>"
   ]
  },
  {
   "cell_type": "code",
   "execution_count": 13,
   "id": "e6cf2a95",
   "metadata": {},
   "outputs": [],
   "source": [
    "arreglo = np.array([ 1 , 2 , 3 , 4 ])"
   ]
  },
  {
   "cell_type": "markdown",
   "id": "edbe6b5a",
   "metadata": {},
   "source": [
    "<p><strong>Salida</strong></p>"
   ]
  },
  {
   "cell_type": "code",
   "execution_count": 15,
   "id": "b22937a0",
   "metadata": {
    "scrolled": true
   },
   "outputs": [
    {
     "data": {
      "text/plain": [
       "array([1, 2, 3, 4])"
      ]
     },
     "execution_count": 15,
     "metadata": {},
     "output_type": "execute_result"
    }
   ],
   "source": [
    "arreglo"
   ]
  },
  {
   "cell_type": "markdown",
   "id": "e6202b9f",
   "metadata": {},
   "source": [
    "<p>También se puede crear el arreglo con un tipo de dato en específico, utilizando el argumento <strong>dtype</strong></p>"
   ]
  },
  {
   "cell_type": "code",
   "execution_count": 18,
   "id": "0e64ecf6",
   "metadata": {},
   "outputs": [
    {
     "data": {
      "text/plain": [
       "array([1., 2., 3., 4.], dtype=float32)"
      ]
     },
     "execution_count": 18,
     "metadata": {},
     "output_type": "execute_result"
    }
   ],
   "source": [
    "np.array([1,2,3,4],dtype=np.float32)"
   ]
  },
  {
   "cell_type": "markdown",
   "id": "175a2a6e",
   "metadata": {},
   "source": [
    "### Prueba 2: Matriz de ceros"
   ]
  },
  {
   "cell_type": "markdown",
   "id": "19312763",
   "metadata": {},
   "source": [
    "<p>El método <strong>np.zeros ()</strong> permite crear matriz de ceros, y todo lo que se tiene que hacer es pasar la dimensión de la matriz deseada, como se muestra en la siguiente línea de código.</p>"
   ]
  },
  {
   "cell_type": "code",
   "execution_count": 21,
   "id": "e3a83839",
   "metadata": {
    "scrolled": true
   },
   "outputs": [
    {
     "data": {
      "text/plain": [
       "array([0., 0., 0., 0., 0.])"
      ]
     },
     "execution_count": 21,
     "metadata": {},
     "output_type": "execute_result"
    }
   ],
   "source": [
    "np.zeros(5)"
   ]
  },
  {
   "cell_type": "markdown",
   "id": "338aa7a1",
   "metadata": {},
   "source": [
    "<p>El de arriba es una matriz 1-D, mientras que el de abajo es una matriz 2-D:<p>"
   ]
  },
  {
   "cell_type": "code",
   "execution_count": 22,
   "id": "6e928fd0",
   "metadata": {},
   "outputs": [
    {
     "data": {
      "text/plain": [
       "array([[0., 0., 0.],\n",
       "       [0., 0., 0.]])"
      ]
     },
     "execution_count": 22,
     "metadata": {},
     "output_type": "execute_result"
    }
   ],
   "source": [
    "np.zeros((2,3))"
   ]
  },
  {
   "cell_type": "markdown",
   "id": "533be421",
   "metadata": {},
   "source": [
    "### Prueba 3: Matriz random   "
   ]
  },
  {
   "cell_type": "markdown",
   "id": "728e5ce1",
   "metadata": {},
   "source": [
    "<p>Otro método muy utilizado para crear ndarrays es el método <strong>np.random.rand ()</strong>. Crea una matriz de una forma dada con valores aleatorios de [0,1) y para crearla solamente se pasa la dimensión de la matriz que se desea formar:</p>"
   ]
  },
  {
   "cell_type": "code",
   "execution_count": 5,
   "id": "ddfc59a5",
   "metadata": {
    "scrolled": false
   },
   "outputs": [
    {
     "data": {
      "text/plain": [
       "array([[0.7078944 , 0.25013937, 0.33735282, 0.19447138],\n",
       "       [0.74580938, 0.91911541, 0.89011462, 0.44260786],\n",
       "       [0.94443348, 0.48132669, 0.34320291, 0.09325304]])"
      ]
     },
     "execution_count": 5,
     "metadata": {},
     "output_type": "execute_result"
    }
   ],
   "source": [
    "np.random.rand(3,4)"
   ]
  },
  {
   "cell_type": "markdown",
   "id": "274f49fb",
   "metadata": {},
   "source": [
    "### Prueba 4: Tamaño de un arreglo"
   ]
  },
  {
   "cell_type": "markdown",
   "id": "0f5b4532",
   "metadata": {},
   "source": [
    "<p>El método <strong>size()</strong> determina el tamaño de un arreglo y el atributo <strong>shape[ ]</strong> obtiene la cantidad de filas que hay en un elementos a lo largo de cada dimensión. Por ende, se puede obtener el tamaño de un arreglo de dos formas, una es utilizando el método size() que es el más fácil y la otra forma es multiplicando filas por columnas para obtener el tamaño a través de esa multiplicación. A continuación, se muestran las dos formas de obtener el tamaño. </p>"
   ]
  },
  {
   "cell_type": "code",
   "execution_count": 7,
   "id": "a3bef101",
   "metadata": {},
   "outputs": [
    {
     "name": "stdout",
     "output_type": "stream",
     "text": [
      "Tamaño del arreglo : 6\n",
      "Tamaño del arreglo de forma manual: 6\n"
     ]
    }
   ],
   "source": [
    "a = np.array([[5,10,15],[20,25,20]])\n",
    "print('Tamaño del arreglo :',a.size)\n",
    "print('Tamaño del arreglo de forma manual:',a.shape[0]*a.shape[1])"
   ]
  },
  {
   "cell_type": "markdown",
   "id": "986ffd12",
   "metadata": {},
   "source": [
    "# Libreria matplotlib.pyplot "
   ]
  },
  {
   "cell_type": "markdown",
   "id": "fc5a5e15",
   "metadata": {},
   "source": [
    "<p>La librería <strong>matplotlib</strong> es un paquete fundamental para la visualización de datos. Este módulo permite la creación de todo, desde simples diagramas de dispersión hasta diagramas de contorno tridimensional, y para la importación de la librería se utiliza <strong>matplotlib.pyplot</strong> con un alias para poder utilizar el módulo en cualquier parte del código. </p>"
   ]
  },
  {
   "cell_type": "code",
   "execution_count": 4,
   "id": "2c74b52b",
   "metadata": {},
   "outputs": [],
   "source": [
    "import matplotlib.pyplot as plt"
   ]
  },
  {
   "cell_type": "markdown",
   "id": "626b6d2b",
   "metadata": {},
   "source": [
    "### Prueba 1: Craer un plot"
   ]
  },
  {
   "cell_type": "markdown",
   "id": "33467ae8",
   "metadata": {},
   "source": [
    "<p>El método <strong>plot()</strong> es utilizado para graficar una sola lista o matriz y si no se indica la escala de valores de x e y, asume que es una secuencia de valores y, y genera automáticamente los valores de x . Dado que los rangos de Python comienzan con 0, el vector x predeterminado tiene la misma longitud que y pero comienza con 0. Por lo tanto, los datos de x son [0,1,2,3].</p>"
   ]
  },
  {
   "cell_type": "code",
   "execution_count": 5,
   "id": "fc6f0562",
   "metadata": {
    "scrolled": true
   },
   "outputs": [
    {
     "data": {
      "image/png": "[encoded data removed]",
      "text/plain": [
       "<Figure size 432x288 with 1 Axes>"
      ]
     },
     "metadata": {
      "needs_background": "light"
     },
     "output_type": "display_data"
    }
   ],
   "source": [
    "plt.plot([1,2,3,4])\n",
    "plt.ylabel('Ejemplo')\n",
    "plt.show()"
   ]
  },
  {
   "cell_type": "markdown",
   "id": "c5670225",
   "metadata": {},
   "source": [
    "### Prueba 2: Asignación de escalas en el plano cartesiano "
   ]
  },
  {
   "cell_type": "markdown",
   "id": "f5f38dbd",
   "metadata": {},
   "source": [
    "<p>Para este ejemplo se utiliza dos lista, la cuales son puntos en el plano cartesiano y adicionalmente se coloca el color de puntos dentro del método  <strong>plot() </strong>.</p>"
   ]
  },
  {
   "cell_type": "code",
   "execution_count": null,
   "id": "f35282ab",
   "metadata": {},
   "outputs": [],
   "source": [
    "plt.plot([1,2,3,4], [1,4,9,16], 'ro')"
   ]
  },
  {
   "cell_type": "markdown",
   "id": "d0292311",
   "metadata": {},
   "source": [
    "<p>Con el atributo <strong>ptl.axis()</strong> se establecen las escalas del plano cartesiano. Y finalmente, se imprime el gráfico con la función  <strong>show() </strong></p>"
   ]
  },
  {
   "cell_type": "code",
   "execution_count": 24,
   "id": "24e84c72",
   "metadata": {},
   "outputs": [
    {
     "data": {
      "image/png": "[encoded data removed]",
      "text/plain": [
       "<Figure size 432x288 with 1 Axes>"
      ]
     },
     "metadata": {
      "needs_background": "light"
     },
     "output_type": "display_data"
    }
   ],
   "source": [
    "plt.axis([0, 6, 0, 20])\n",
    "plt.show()"
   ]
  },
  {
   "cell_type": "markdown",
   "id": "92e30cf2",
   "metadata": {},
   "source": [
    "### Prueba 3: Diagrama pastel"
   ]
  },
  {
   "cell_type": "markdown",
   "id": "bb777d15",
   "metadata": {},
   "source": [
    "<p>Para graficar un diagrama pastel, con sus etiquetas respectiva en cada fragmento, se debe declarar los nombres de cada etiquetas y guardarlos en una variable</p>"
   ]
  },
  {
   "cell_type": "code",
   "execution_count": 8,
   "id": "a51c2114",
   "metadata": {},
   "outputs": [],
   "source": [
    "labels = 'Brocoli', 'Chocolate', 'Hamburguesa', 'Galletas'"
   ]
  },
  {
   "cell_type": "markdown",
   "id": "c2bc872d",
   "metadata": {},
   "source": [
    "<p>La cantidad de porcentaje ya saben estar definidas en el archivo que se utiliza, pero para este ejemplo se los define de forma manual y se los guarda en una variable(sizes), al igual que los colores(colors) de cada fragmento</p>"
   ]
  },
  {
   "cell_type": "code",
   "execution_count": 9,
   "id": "47784313",
   "metadata": {},
   "outputs": [],
   "source": [
    "sizes = [30, 330, 245, 210]\n",
    "colors = ['green', 'brown', 'blue', 'red']"
   ]
  },
  {
   "cell_type": "markdown",
   "id": "e944d34e",
   "metadata": {},
   "source": [
    "<p>Por último, se utiliza la función de <strong>plt.pie()</strong> y se nombra al tamaño de cada fragmento, las etiquetas y los colores. Un la función <strong>plt.title()</strong> se le coloca un título al diagrama</p>"
   ]
  },
  {
   "cell_type": "code",
   "execution_count": 10,
   "id": "4e8e0978",
   "metadata": {},
   "outputs": [
    {
     "data": {
      "image/png": "[encoded data removed]",
      "text/plain": [
       "<Figure size 432x288 with 1 Axes>"
      ]
     },
     "metadata": {},
     "output_type": "display_data"
    }
   ],
   "source": [
    "plt.pie(sizes, labels=labels, colors=colors)\n",
    "plt.axis('equal')\n",
    "plt.title('Diagrama pastel')\n",
    "plt.show()"
   ]
  },
  {
   "cell_type": "markdown",
   "id": "f7a007c4",
   "metadata": {},
   "source": [
    "# Libreria category_encoders"
   ]
  },
  {
   "cell_type": "markdown",
   "id": "023290ea",
   "metadata": {},
   "source": [
    "<p>La librería <strong>category encoders</strong> que en español significa codificadores de categorías, es utilizada para transformar datos categóricos en numéricos. Esta transformación se realiza porque para utilizar los modelos, las categorías deben transformarse primero en números, antes de poder aplicarles el algoritmo de aprendizaje. \n",
    "</p>"
   ]
  },
  {
   "cell_type": "markdown",
   "id": "65a23b20",
   "metadata": {},
   "source": [
    "<p>Para poder utilizar la librería, primero se debe instalarlo como se muestra en la siguiente línea de código</p>"
   ]
  },
  {
   "cell_type": "code",
   "execution_count": 12,
   "id": "78017ec2",
   "metadata": {
    "scrolled": true
   },
   "outputs": [
    {
     "name": "stdout",
     "output_type": "stream",
     "text": [
      "Requirement already satisfied: category_encoders in /srv/conda/envs/notebook/lib/python3.6/site-packages (2.3.0)\n",
      "Requirement already satisfied: pandas>=0.21.1 in /srv/conda/envs/notebook/lib/python3.6/site-packages (from category_encoders) (1.1.5)\n",
      "Requirement already satisfied: numpy>=1.14.0 in /srv/conda/envs/notebook/lib/python3.6/site-packages (from category_encoders) (1.19.5)\n",
      "Requirement already satisfied: scipy>=1.0.0 in /srv/conda/envs/notebook/lib/python3.6/site-packages (from category_encoders) (1.5.3)\n",
      "Requirement already satisfied: patsy>=0.5.1 in /srv/conda/envs/notebook/lib/python3.6/site-packages (from category_encoders) (0.5.2)\n",
      "Requirement already satisfied: statsmodels>=0.9.0 in /srv/conda/envs/notebook/lib/python3.6/site-packages (from category_encoders) (0.12.2)\n",
      "Requirement already satisfied: scikit-learn>=0.20.0 in /srv/conda/envs/notebook/lib/python3.6/site-packages (from category_encoders) (0.24.2)\n",
      "Requirement already satisfied: python-dateutil>=2.7.3 in /srv/conda/envs/notebook/lib/python3.6/site-packages (from pandas>=0.21.1->category_encoders) (2.8.2)\n",
      "Requirement already satisfied: pytz>=2017.2 in /srv/conda/envs/notebook/lib/python3.6/site-packages (from pandas>=0.21.1->category_encoders) (2021.3)\n",
      "Requirement already satisfied: six in /srv/conda/envs/notebook/lib/python3.6/site-packages (from patsy>=0.5.1->category_encoders) (1.16.0)\n",
      "Requirement already satisfied: threadpoolctl>=2.0.0 in /srv/conda/envs/notebook/lib/python3.6/site-packages (from scikit-learn>=0.20.0->category_encoders) (3.0.0)\n",
      "Requirement already satisfied: joblib>=0.11 in /srv/conda/envs/notebook/lib/python3.6/site-packages (from scikit-learn>=0.20.0->category_encoders) (1.1.0)\n"
     ]
    }
   ],
   "source": [
    "!pip install category_encoders"
   ]
  },
  {
   "cell_type": "markdown",
   "id": "62a53e53",
   "metadata": {},
   "source": [
    "<p>Y para utilizar la librería, se la importa con el nombre <strong>category_encoders</strong> junto con un alias</p> "
   ]
  },
  {
   "cell_type": "code",
   "execution_count": 3,
   "id": "7e4ecf85",
   "metadata": {},
   "outputs": [],
   "source": [
    "import category_encoders as ce"
   ]
  },
  {
   "cell_type": "markdown",
   "id": "47d3a83b",
   "metadata": {},
   "source": [
    "### Prueba 1: Codificación binaria "
   ]
  },
  {
   "cell_type": "markdown",
   "id": "681a93a7",
   "metadata": {},
   "source": [
    "<p>En esta técnica, primero se codifican las categorías como ordinales, después esos números enteros se convierten en código binario, luego los dígitos de esa cadena binaria se dividen en columnas separadas.</p>"
   ]
  },
  {
   "cell_type": "markdown",
   "id": "628c35c6",
   "metadata": {},
   "source": [
    "<p>Para utilizar esta técnica se debe llamar a la función <strong>BinaryEncoderfunción</strong> especificando las columnas que desea codificar y luego a la otra función <strong>fit_transform()</strong> con el nombre del dataset como argumento.</p>"
   ]
  },
  {
   "cell_type": "code",
   "execution_count": 19,
   "id": "82dcd83b",
   "metadata": {},
   "outputs": [
    {
     "data": {
      "text/html": [
       "<div>\n",
       "<style scoped>\n",
       "    .dataframe tbody tr th:only-of-type {\n",
       "        vertical-align: middle;\n",
       "    }\n",
       "\n",
       "    .dataframe tbody tr th {\n",
       "        vertical-align: top;\n",
       "    }\n",
       "\n",
       "    .dataframe thead th {\n",
       "        text-align: right;\n",
       "    }\n",
       "</style>\n",
       "<table border=\"1\" class=\"dataframe\">\n",
       "  <thead>\n",
       "    <tr style=\"text-align: right;\">\n",
       "      <th></th>\n",
       "      <th>review</th>\n",
       "      <th>sentiment_0</th>\n",
       "      <th>sentiment_1</th>\n",
       "    </tr>\n",
       "  </thead>\n",
       "  <tbody>\n",
       "    <tr>\n",
       "      <th>0</th>\n",
       "      <td>One of the other reviewers has mentioned that ...</td>\n",
       "      <td>0</td>\n",
       "      <td>1</td>\n",
       "    </tr>\n",
       "    <tr>\n",
       "      <th>1</th>\n",
       "      <td>A wonderful little production. &lt;br /&gt;&lt;br /&gt;The...</td>\n",
       "      <td>0</td>\n",
       "      <td>1</td>\n",
       "    </tr>\n",
       "    <tr>\n",
       "      <th>2</th>\n",
       "      <td>I thought this was a wonderful way to spend ti...</td>\n",
       "      <td>0</td>\n",
       "      <td>1</td>\n",
       "    </tr>\n",
       "    <tr>\n",
       "      <th>3</th>\n",
       "      <td>Basically there's a family where a little boy ...</td>\n",
       "      <td>1</td>\n",
       "      <td>0</td>\n",
       "    </tr>\n",
       "    <tr>\n",
       "      <th>4</th>\n",
       "      <td>Petter Mattei's \"Love in the Time of Money\" is...</td>\n",
       "      <td>0</td>\n",
       "      <td>1</td>\n",
       "    </tr>\n",
       "  </tbody>\n",
       "</table>\n",
       "</div>"
      ],
      "text/plain": [
       "                                              review  sentiment_0  sentiment_1\n",
       "0  One of the other reviewers has mentioned that ...            0            1\n",
       "1  A wonderful little production. <br /><br />The...            0            1\n",
       "2  I thought this was a wonderful way to spend ti...            0            1\n",
       "3  Basically there's a family where a little boy ...            1            0\n",
       "4  Petter Mattei's \"Love in the Time of Money\" is...            0            1"
      ]
     },
     "execution_count": 19,
     "metadata": {},
     "output_type": "execute_result"
    }
   ],
   "source": [
    "dataset = pd.read_csv('IMDB Dataset.csv')\n",
    "encoder = ce.BinaryEncoder(cols=['sentiment'])\n",
    "df_binary = encoder.fit_transform(dataset)\n",
    "df_binary.head()"
   ]
  },
  {
   "cell_type": "markdown",
   "id": "06f73b7a",
   "metadata": {},
   "source": [
    "### Prueba 2: Codificación de diferencia hacia atrás "
   ]
  },
  {
   "cell_type": "markdown",
   "id": "73e8cdf8",
   "metadata": {},
   "source": [
    "<p>Esta técnica cae bajo el sistema de codificación de contraste para características categóricas. Una característica de las categorías K, o niveles, generalmente entra en una regresión como una secuencia de variables ficticias K-1. En la codificación de diferencias hacia atrás, la media de la variable dependiente para un nivel se compara con la media de la variable dependiente para el nivel anterior.</p>"
   ]
  },
  {
   "cell_type": "markdown",
   "id": "eedbba7e",
   "metadata": {},
   "source": [
    "<p>La estructura del código es similar a cualquier método de la category_encoders, solo que esta vez llamará BackwardDifferenceEncoderdesde:\n",
    "</p>"
   ]
  },
  {
   "cell_type": "code",
   "execution_count": 20,
   "id": "c91fa93f",
   "metadata": {},
   "outputs": [
    {
     "data": {
      "text/html": [
       "<div>\n",
       "<style scoped>\n",
       "    .dataframe tbody tr th:only-of-type {\n",
       "        vertical-align: middle;\n",
       "    }\n",
       "\n",
       "    .dataframe tbody tr th {\n",
       "        vertical-align: top;\n",
       "    }\n",
       "\n",
       "    .dataframe thead th {\n",
       "        text-align: right;\n",
       "    }\n",
       "</style>\n",
       "<table border=\"1\" class=\"dataframe\">\n",
       "  <thead>\n",
       "    <tr style=\"text-align: right;\">\n",
       "      <th></th>\n",
       "      <th>intercept</th>\n",
       "      <th>review</th>\n",
       "      <th>sentiment_0</th>\n",
       "    </tr>\n",
       "  </thead>\n",
       "  <tbody>\n",
       "    <tr>\n",
       "      <th>0</th>\n",
       "      <td>1</td>\n",
       "      <td>One of the other reviewers has mentioned that ...</td>\n",
       "      <td>-0.5</td>\n",
       "    </tr>\n",
       "    <tr>\n",
       "      <th>1</th>\n",
       "      <td>1</td>\n",
       "      <td>A wonderful little production. &lt;br /&gt;&lt;br /&gt;The...</td>\n",
       "      <td>-0.5</td>\n",
       "    </tr>\n",
       "    <tr>\n",
       "      <th>2</th>\n",
       "      <td>1</td>\n",
       "      <td>I thought this was a wonderful way to spend ti...</td>\n",
       "      <td>-0.5</td>\n",
       "    </tr>\n",
       "    <tr>\n",
       "      <th>3</th>\n",
       "      <td>1</td>\n",
       "      <td>Basically there's a family where a little boy ...</td>\n",
       "      <td>0.5</td>\n",
       "    </tr>\n",
       "    <tr>\n",
       "      <th>4</th>\n",
       "      <td>1</td>\n",
       "      <td>Petter Mattei's \"Love in the Time of Money\" is...</td>\n",
       "      <td>-0.5</td>\n",
       "    </tr>\n",
       "  </tbody>\n",
       "</table>\n",
       "</div>"
      ],
      "text/plain": [
       "   intercept                                             review  sentiment_0\n",
       "0          1  One of the other reviewers has mentioned that ...         -0.5\n",
       "1          1  A wonderful little production. <br /><br />The...         -0.5\n",
       "2          1  I thought this was a wonderful way to spend ti...         -0.5\n",
       "3          1  Basically there's a family where a little boy ...          0.5\n",
       "4          1  Petter Mattei's \"Love in the Time of Money\" is...         -0.5"
      ]
     },
     "execution_count": 20,
     "metadata": {},
     "output_type": "execute_result"
    }
   ],
   "source": [
    "encoder = ce.BackwardDifferenceEncoder(cols=['sentiment'])\n",
    "df_bd = encoder.fit_transform(dataset)\n",
    "df_bd.head()"
   ]
  },
  {
   "cell_type": "markdown",
   "id": "e786435c",
   "metadata": {},
   "source": [
    "### Prueba 3: Comparación "
   ]
  },
  {
   "cell_type": "markdown",
   "id": "21dae64d",
   "metadata": {},
   "source": [
    "<p>En el método <strong>Sum Encoder</strong> realiza la comparación entre la media de la variable dependiente (objetivo) para un nivel dado de una columna categórica con la media general del objetivo. La codificación se usan comúnmente en los tipos de modelos de regresión lineal</p>"
   ]
  },
  {
   "cell_type": "markdown",
   "id": "58d861d6",
   "metadata": {},
   "source": [
    "<p>La estructura del código es similar a cualquier método de la category_encoders, solo que esta vez se llamará SumEncoder</p>"
   ]
  },
  {
   "cell_type": "code",
   "execution_count": 8,
   "id": "9088659a",
   "metadata": {},
   "outputs": [
    {
     "data": {
      "text/html": [
       "<div>\n",
       "<style scoped>\n",
       "    .dataframe tbody tr th:only-of-type {\n",
       "        vertical-align: middle;\n",
       "    }\n",
       "\n",
       "    .dataframe tbody tr th {\n",
       "        vertical-align: top;\n",
       "    }\n",
       "\n",
       "    .dataframe thead th {\n",
       "        text-align: right;\n",
       "    }\n",
       "</style>\n",
       "<table border=\"1\" class=\"dataframe\">\n",
       "  <thead>\n",
       "    <tr style=\"text-align: right;\">\n",
       "      <th></th>\n",
       "      <th>intercept</th>\n",
       "      <th>review</th>\n",
       "      <th>sentiment_0</th>\n",
       "    </tr>\n",
       "  </thead>\n",
       "  <tbody>\n",
       "    <tr>\n",
       "      <th>0</th>\n",
       "      <td>1</td>\n",
       "      <td>One of the other reviewers has mentioned that ...</td>\n",
       "      <td>1.0</td>\n",
       "    </tr>\n",
       "    <tr>\n",
       "      <th>1</th>\n",
       "      <td>1</td>\n",
       "      <td>A wonderful little production. &lt;br /&gt;&lt;br /&gt;The...</td>\n",
       "      <td>1.0</td>\n",
       "    </tr>\n",
       "    <tr>\n",
       "      <th>2</th>\n",
       "      <td>1</td>\n",
       "      <td>I thought this was a wonderful way to spend ti...</td>\n",
       "      <td>1.0</td>\n",
       "    </tr>\n",
       "    <tr>\n",
       "      <th>3</th>\n",
       "      <td>1</td>\n",
       "      <td>Basically there's a family where a little boy ...</td>\n",
       "      <td>-1.0</td>\n",
       "    </tr>\n",
       "    <tr>\n",
       "      <th>4</th>\n",
       "      <td>1</td>\n",
       "      <td>Petter Mattei's \"Love in the Time of Money\" is...</td>\n",
       "      <td>1.0</td>\n",
       "    </tr>\n",
       "  </tbody>\n",
       "</table>\n",
       "</div>"
      ],
      "text/plain": [
       "   intercept                                             review  sentiment_0\n",
       "0          1  One of the other reviewers has mentioned that ...          1.0\n",
       "1          1  A wonderful little production. <br /><br />The...          1.0\n",
       "2          1  I thought this was a wonderful way to spend ti...          1.0\n",
       "3          1  Basically there's a family where a little boy ...         -1.0\n",
       "4          1  Petter Mattei's \"Love in the Time of Money\" is...          1.0"
      ]
     },
     "execution_count": 8,
     "metadata": {},
     "output_type": "execute_result"
    }
   ],
   "source": [
    "encoder = ce.SumEncoder(cols=['sentiment'])\n",
    "data1 = encoder.fit_transform(dataset) \n",
    "data1.head()"
   ]
  }
 ],
 "metadata": {
  "kernelspec": {
   "display_name": "Python 3",
   "language": "python",
   "name": "python3"
  },
  "language_info": {
   "codemirror_mode": {
    "name": "ipython",
    "version": 3
   },
   "file_extension": ".py",
   "mimetype": "text/x-python",
   "name": "python",
   "nbconvert_exporter": "python",
   "pygments_lexer": "ipython3",
   "version": "3.6.13"
  }
 },
 "nbformat": 4,
 "nbformat_minor": 5
}
